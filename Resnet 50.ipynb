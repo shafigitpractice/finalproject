{
 "cells": [
  {
   "cell_type": "code",
   "execution_count": 8,
   "metadata": {},
   "outputs": [],
   "source": [
    "import zipfile\n",
    "import os\n",
    "import numpy as np\n",
    "import tensorflow as tf\n",
    "from tensorflow.keras.applications import ResNet50\n",
    "from tensorflow.keras.models import Model\n",
    "from tensorflow.keras.layers import Dense, GlobalAveragePooling2D\n",
    "from tensorflow.keras.preprocessing.image import ImageDataGenerator\n",
    "import matplotlib.pyplot as plt\n",
    "import matplotlib.image as mpimg\n",
    "\n",
    "# 1. UNZIP THE DATASET\n",
    "dataset_path = \"dataset-resized.zip\"\n",
    "unzip_path = \"dataset-resized\"\n",
    "with zipfile.ZipFile(dataset_path, 'r') as zip_ref:\n",
    "    zip_ref.extractall(unzip_path)"
   ]
  },
  {
   "cell_type": "code",
   "execution_count": 9,
   "metadata": {},
   "outputs": [],
   "source": [
    "# 1. SET UP DATA GENERATORS\n",
    "train_datagen = ImageDataGenerator(rescale=1./255, validation_split=0.2)\n",
    "test_datagen = ImageDataGenerator(rescale=1./255)"
   ]
  },
  {
   "cell_type": "code",
   "execution_count": 10,
   "metadata": {},
   "outputs": [
    {
     "name": "stdout",
     "output_type": "stream",
     "text": [
      "Found 2024 images belonging to 6 classes.\n",
      "Found 503 images belonging to 6 classes.\n"
     ]
    }
   ],
   "source": [
    "train_generator = train_datagen.flow_from_directory(\n",
    "    os.path.join(\"dataset-resized\", \"dataset-resized\"),\n",
    "    target_size=(150, 150),\n",
    "    batch_size=32,\n",
    "    class_mode='categorical',\n",
    "    subset='training'\n",
    ")\n",
    "\n",
    "validation_generator = train_datagen.flow_from_directory(\n",
    "    os.path.join(\"dataset-resized\", \"dataset-resized\"),\n",
    "    target_size=(150, 150),\n",
    "    batch_size=32,\n",
    "    class_mode='categorical',\n",
    "    subset='validation'\n",
    ")"
   ]
  },
  {
   "cell_type": "code",
   "execution_count": 11,
   "metadata": {},
   "outputs": [],
   "source": [
    "# 2. APPLY TRANSFER LEARNING WITH RESNET50\n",
    "base_model = ResNet50(weights='imagenet', include_top=False, input_shape=(150, 150, 3))\n",
    "x = base_model.output\n",
    "x = GlobalAveragePooling2D()(x)\n",
    "x = Dense(1024, activation='relu')(x)\n",
    "predictions = Dense(6, activation='softmax')(x)\n",
    "model = Model(inputs=base_model.input, outputs=predictions)\n",
    "for layer in base_model.layers:\n",
    "    layer.trainable = False\n",
    "model.compile(optimizer='adam', loss='categorical_crossentropy', metrics=['accuracy'])"
   ]
  },
  {
   "cell_type": "code",
   "execution_count": null,
   "metadata": {},
   "outputs": [
    {
     "name": "stdout",
     "output_type": "stream",
     "text": [
      "Epoch 1/100\n",
      "WARNING:tensorflow:From C:\\Users\\azras\\anaconda3\\lib\\site-packages\\keras\\src\\utils\\tf_utils.py:492: The name tf.ragged.RaggedTensorValue is deprecated. Please use tf.compat.v1.ragged.RaggedTensorValue instead.\n",
      "\n",
      "WARNING:tensorflow:From C:\\Users\\azras\\anaconda3\\lib\\site-packages\\keras\\src\\engine\\base_layer_utils.py:384: The name tf.executing_eagerly_outside_functions is deprecated. Please use tf.compat.v1.executing_eagerly_outside_functions instead.\n",
      "\n",
      "64/64 [==============================] - 83s 1s/step - loss: 1.7300 - accuracy: 0.2535 - val_loss: 1.6487 - val_accuracy: 0.3241\n",
      "Epoch 2/100\n",
      "64/64 [==============================] - 65s 1s/step - loss: 1.6462 - accuracy: 0.2984 - val_loss: 1.6659 - val_accuracy: 0.2843\n",
      "Epoch 3/100\n",
      "64/64 [==============================] - 65s 1s/step - loss: 1.6254 - accuracy: 0.3063 - val_loss: 1.6674 - val_accuracy: 0.2744\n",
      "Epoch 4/100\n",
      "64/64 [==============================] - 66s 1s/step - loss: 1.5902 - accuracy: 0.3192 - val_loss: 1.5890 - val_accuracy: 0.3559\n",
      "Epoch 5/100\n",
      "64/64 [==============================] - 66s 1s/step - loss: 1.5648 - accuracy: 0.3449 - val_loss: 1.6456 - val_accuracy: 0.3082\n",
      "Epoch 6/100\n",
      "64/64 [==============================] - 1157s 18s/step - loss: 1.5790 - accuracy: 0.3340 - val_loss: 1.6250 - val_accuracy: 0.3082\n",
      "Epoch 7/100\n",
      "64/64 [==============================] - 62s 965ms/step - loss: 1.5543 - accuracy: 0.3631 - val_loss: 1.5654 - val_accuracy: 0.3857\n",
      "Epoch 8/100\n",
      "64/64 [==============================] - 62s 975ms/step - loss: 1.5339 - accuracy: 0.3824 - val_loss: 1.6170 - val_accuracy: 0.2584\n",
      "Epoch 9/100\n",
      "64/64 [==============================] - 63s 985ms/step - loss: 1.5184 - accuracy: 0.3701 - val_loss: 1.5927 - val_accuracy: 0.3141\n",
      "Epoch 10/100\n",
      "64/64 [==============================] - 65s 1s/step - loss: 1.5088 - accuracy: 0.3785 - val_loss: 1.5461 - val_accuracy: 0.3439\n",
      "Epoch 11/100\n",
      "64/64 [==============================] - 67s 1s/step - loss: 1.4577 - accuracy: 0.4185 - val_loss: 1.5624 - val_accuracy: 0.3777\n",
      "Epoch 12/100\n",
      "64/64 [==============================] - 66s 1s/step - loss: 1.4993 - accuracy: 0.3785 - val_loss: 1.6038 - val_accuracy: 0.3141\n",
      "Epoch 13/100\n",
      "64/64 [==============================] - 58s 910ms/step - loss: 1.4492 - accuracy: 0.4130 - val_loss: 1.5378 - val_accuracy: 0.3678\n",
      "Epoch 14/100\n",
      "64/64 [==============================] - 62s 973ms/step - loss: 1.4287 - accuracy: 0.4343 - val_loss: 1.5407 - val_accuracy: 0.3260\n",
      "Epoch 15/100\n",
      "64/64 [==============================] - 66s 1s/step - loss: 1.4438 - accuracy: 0.4037 - val_loss: 1.5205 - val_accuracy: 0.3757\n",
      "Epoch 16/100\n",
      "64/64 [==============================] - 67s 1s/step - loss: 1.4194 - accuracy: 0.4135 - val_loss: 1.5299 - val_accuracy: 0.3638\n",
      "Epoch 17/100\n",
      "64/64 [==============================] - 67s 1s/step - loss: 1.4231 - accuracy: 0.4274 - val_loss: 1.5574 - val_accuracy: 0.3598\n",
      "Epoch 18/100\n",
      "64/64 [==============================] - 60s 942ms/step - loss: 1.4220 - accuracy: 0.4155 - val_loss: 1.5132 - val_accuracy: 0.3976\n",
      "Epoch 19/100\n",
      "64/64 [==============================] - 57s 885ms/step - loss: 1.4030 - accuracy: 0.4323 - val_loss: 1.5373 - val_accuracy: 0.3658\n",
      "Epoch 20/100\n",
      "64/64 [==============================] - 67s 1s/step - loss: 1.3924 - accuracy: 0.4249 - val_loss: 1.6119 - val_accuracy: 0.3280\n",
      "Epoch 21/100\n",
      "64/64 [==============================] - 60s 930ms/step - loss: 1.3807 - accuracy: 0.4471 - val_loss: 1.5417 - val_accuracy: 0.3996\n",
      "Epoch 22/100\n",
      "64/64 [==============================] - 412s 7s/step - loss: 1.3725 - accuracy: 0.4382 - val_loss: 1.5782 - val_accuracy: 0.3976\n",
      "Epoch 23/100\n",
      "64/64 [==============================] - 62s 962ms/step - loss: 1.3684 - accuracy: 0.4526 - val_loss: 1.5399 - val_accuracy: 0.3936\n",
      "Epoch 24/100\n",
      "64/64 [==============================] - 63s 981ms/step - loss: 1.3488 - accuracy: 0.4600 - val_loss: 1.5221 - val_accuracy: 0.3757\n",
      "Epoch 25/100\n",
      "64/64 [==============================] - 77s 1s/step - loss: 1.3331 - accuracy: 0.4664 - val_loss: 1.5361 - val_accuracy: 0.3976\n",
      "Epoch 26/100\n",
      "64/64 [==============================] - 79s 1s/step - loss: 1.3523 - accuracy: 0.4585 - val_loss: 1.5985 - val_accuracy: 0.3618\n",
      "Epoch 27/100\n",
      "64/64 [==============================] - 79s 1s/step - loss: 1.3471 - accuracy: 0.4625 - val_loss: 1.5433 - val_accuracy: 0.3777\n",
      "Epoch 28/100\n",
      "64/64 [==============================] - 79s 1s/step - loss: 1.3523 - accuracy: 0.4392 - val_loss: 1.5344 - val_accuracy: 0.3539\n",
      "Epoch 29/100\n",
      "64/64 [==============================] - 80s 1s/step - loss: 1.3374 - accuracy: 0.4718 - val_loss: 1.5025 - val_accuracy: 0.3817\n",
      "Epoch 30/100\n",
      "64/64 [==============================] - 78s 1s/step - loss: 1.3277 - accuracy: 0.4664 - val_loss: 1.5514 - val_accuracy: 0.4135\n",
      "Epoch 31/100\n",
      "64/64 [==============================] - 79s 1s/step - loss: 1.3217 - accuracy: 0.4733 - val_loss: 1.4978 - val_accuracy: 0.4135\n",
      "Epoch 32/100\n",
      "64/64 [==============================] - 75s 1s/step - loss: 1.2815 - accuracy: 0.4980 - val_loss: 1.5199 - val_accuracy: 0.4195\n",
      "Epoch 33/100\n",
      "64/64 [==============================] - 79s 1s/step - loss: 1.2944 - accuracy: 0.4941 - val_loss: 1.5171 - val_accuracy: 0.4016\n",
      "Epoch 34/100\n",
      "64/64 [==============================] - 79s 1s/step - loss: 1.2871 - accuracy: 0.4921 - val_loss: 1.5599 - val_accuracy: 0.3857\n",
      "Epoch 35/100\n",
      "64/64 [==============================] - 80s 1s/step - loss: 1.3410 - accuracy: 0.4595 - val_loss: 1.5586 - val_accuracy: 0.3718\n",
      "Epoch 36/100\n",
      "64/64 [==============================] - 82s 1s/step - loss: 1.2860 - accuracy: 0.4941 - val_loss: 1.6126 - val_accuracy: 0.3559\n",
      "Epoch 37/100\n",
      "64/64 [==============================] - 82s 1s/step - loss: 1.2816 - accuracy: 0.5010 - val_loss: 1.5972 - val_accuracy: 0.3618\n",
      "Epoch 38/100\n",
      "64/64 [==============================] - 81s 1s/step - loss: 1.2528 - accuracy: 0.5138 - val_loss: 1.6090 - val_accuracy: 0.3638\n",
      "Epoch 39/100\n",
      "64/64 [==============================] - 72s 1s/step - loss: 1.2722 - accuracy: 0.5104 - val_loss: 1.5061 - val_accuracy: 0.4235\n",
      "Epoch 40/100\n",
      "64/64 [==============================] - 64s 997ms/step - loss: 1.2550 - accuracy: 0.5168 - val_loss: 1.5448 - val_accuracy: 0.3559\n",
      "Epoch 41/100\n",
      "64/64 [==============================] - 64s 1s/step - loss: 1.2492 - accuracy: 0.5168 - val_loss: 1.5136 - val_accuracy: 0.3917\n",
      "Epoch 42/100\n",
      "64/64 [==============================] - 65s 1s/step - loss: 1.2815 - accuracy: 0.4921 - val_loss: 1.5126 - val_accuracy: 0.3897\n",
      "Epoch 43/100\n",
      "64/64 [==============================] - ETA: 0s - loss: 1.2519 - accuracy: 0.5025"
     ]
    }
   ],
   "source": [
    "# 3. TRAIN THE MODEL\n",
    "history = model.fit(\n",
    "    train_generator,\n",
    "    epochs=100,\n",
    "    validation_data=validation_generator\n",
    ")"
   ]
  },
  {
   "cell_type": "code",
   "execution_count": null,
   "metadata": {},
   "outputs": [],
   "source": [
    "# 4. EVALUATE AND PREDICT ON TEST SET\n",
    "test_generator = test_datagen.flow_from_directory(\n",
    "    os.path.join(\"dataset-resized\", \"dataset-resized\"),\n",
    "    target_size=(150, 150),\n",
    "    batch_size=32,\n",
    "    class_mode='categorical',\n",
    "    shuffle=False\n",
    ")\n",
    "loss, accuracy = model.evaluate(test_generator)\n",
    "print(f\"Test Loss: {loss}\")\n",
    "print(f\"Test Accuracy: {accuracy}\")"
   ]
  },
  {
   "cell_type": "code",
   "execution_count": null,
   "metadata": {},
   "outputs": [],
   "source": [
    "# 5. VISUALIZE ACCURACY\n",
    "plt.figure(figsize=(10, 6))\n",
    "plt.plot(history.history['accuracy'], label='Training Accuracy')\n",
    "plt.plot(history.history['val_accuracy'], label='Validation Accuracy')\n",
    "plt.title('Training and Validation Accuracy')\n",
    "plt.xlabel('Epoch')\n",
    "plt.ylabel('Accuracy')\n",
    "plt.legend()\n",
    "plt.grid(True)\n",
    "plt.show()"
   ]
  },
  {
   "cell_type": "code",
   "execution_count": null,
   "metadata": {},
   "outputs": [],
   "source": []
  },
  {
   "cell_type": "code",
   "execution_count": null,
   "metadata": {},
   "outputs": [],
   "source": []
  },
  {
   "cell_type": "code",
   "execution_count": null,
   "metadata": {},
   "outputs": [],
   "source": []
  }
 ],
 "metadata": {
  "kernelspec": {
   "display_name": "Python 3 (ipykernel)",
   "language": "python",
   "name": "python3"
  },
  "language_info": {
   "codemirror_mode": {
    "name": "ipython",
    "version": 3
   },
   "file_extension": ".py",
   "mimetype": "text/x-python",
   "name": "python",
   "nbconvert_exporter": "python",
   "pygments_lexer": "ipython3",
   "version": "3.9.13"
  }
 },
 "nbformat": 4,
 "nbformat_minor": 4
}
